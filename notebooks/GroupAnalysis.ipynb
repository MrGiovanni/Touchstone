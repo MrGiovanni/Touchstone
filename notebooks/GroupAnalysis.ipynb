{
 "cells": [
  {
   "cell_type": "markdown",
   "id": "b9c15e14",
   "metadata": {},
   "source": [
    "# Per-class images"
   ]
  },
  {
   "cell_type": "code",
   "execution_count": null,
   "id": "aedb8e98",
   "metadata": {
    "scrolled": true
   },
   "outputs": [],
   "source": [
    "%run ../plot/PerClassBoxplot.py --dataset TotalSegmentator"
   ]
  },
  {
   "cell_type": "code",
   "execution_count": null,
   "id": "5afbc039",
   "metadata": {},
   "outputs": [],
   "source": [
    "%run ../plot/PerClassBoxplot.py --dataset TotalSegmentator --test_set_only"
   ]
  },
  {
   "cell_type": "code",
   "execution_count": null,
   "id": "3706f673",
   "metadata": {
    "scrolled": true
   },
   "outputs": [],
   "source": [
    "%run ../plot/PerClassBoxplot.py --dataset DAPAtlas"
   ]
  },
  {
   "cell_type": "markdown",
   "id": "2173ed25",
   "metadata": {},
   "source": [
    "### NSD"
   ]
  },
  {
   "cell_type": "code",
   "execution_count": null,
   "id": "e1739d2d",
   "metadata": {
    "scrolled": true
   },
   "outputs": [],
   "source": [
    "%run ../plot/PerClassBoxplot.py --dataset TotalSegmentator --nsd"
   ]
  },
  {
   "cell_type": "code",
   "execution_count": null,
   "id": "b29b2ab5",
   "metadata": {},
   "outputs": [],
   "source": [
    "%run ../plot/PerClassBoxplot.py --dataset TotalSegmentator --test_set_only --nsd"
   ]
  },
  {
   "cell_type": "code",
   "execution_count": null,
   "id": "da53a83e",
   "metadata": {},
   "outputs": [],
   "source": [
    "%run ../plot/PerClassBoxplot.py --dataset DAPAtlas --nsd"
   ]
  },
  {
   "cell_type": "markdown",
   "id": "cd99de5d",
   "metadata": {},
   "source": [
    "# Dataset Averages TotalSegmentator"
   ]
  },
  {
   "cell_type": "code",
   "execution_count": null,
   "id": "a333d9c3",
   "metadata": {},
   "outputs": [],
   "source": [
    "for organ in ['mean','aorta','gall_bladder','kidney_left','kidney_right','liver','pancreas','postcava','spleen','stomach']:\n",
    "    for group in ['all','ages','diagnosis','sex','institute','manufacturer','scanner_model']:\n",
    "        command = f\"../plot/PlotGroup.py --ckpt_root ../totalsegmentator_results/ \\\n",
    "                    --group_root ../outputs/plotsTotalSegmentator/ \\\n",
    "                    --group_name '{group}' --organ '{organ}' --stats \\\n",
    "                    --orientation h --font 20 --fig_length 20\"\n",
    "        get_ipython().run_line_magic('run', command)"
   ]
  },
  {
   "cell_type": "code",
   "execution_count": null,
   "id": "8f6d0197",
   "metadata": {},
   "outputs": [],
   "source": [
    "for organ in ['mean','aorta','gall_bladder','kidney_left','kidney_right','liver','pancreas','postcava','spleen','stomach']:\n",
    "    for group in ['all','ages','diagnosis','sex','institute','manufacturer','scanner_model']:\n",
    "        command = f\"../plot/PlotGroup.py --ckpt_root ../totalsegmentator_results/ \\\n",
    "                    --group_root ../outputs/plotsTotalSegmentator/ \\\n",
    "                    --group_name '{group}' --organ '{organ}' --stats --test_set_only \\\n",
    "                    --orientation h --font 20 --fig_length 20\"\n",
    "        get_ipython().run_line_magic('run', command)"
   ]
  },
  {
   "cell_type": "markdown",
   "id": "e405cb4e",
   "metadata": {},
   "source": [
    "# DAP Atlas group results"
   ]
  },
  {
   "cell_type": "code",
   "execution_count": null,
   "id": "0e4edcb2",
   "metadata": {},
   "outputs": [],
   "source": [
    "for group in ['all','ages','diagnosis','sex','cancer_diagnosis']:\n",
    "    for organ in ['mean','aorta','gall_bladder','kidney_left','kidney_right','liver','pancreas','postcava','spleen','stomach']:\n",
    "        command = f\"../plot/PlotGroup.py --ckpt_root ../dapatlas_results/ \\\n",
    "                    --group_root ../outputs/plotsDAPAtlas/ \\\n",
    "                    --group_name '{group}' --organ '{organ}' --stats \\\n",
    "                    --orientation h --font 20 --fig_length 20\"\n",
    "        get_ipython().run_line_magic('run', command)"
   ]
  },
  {
   "cell_type": "code",
   "execution_count": null,
   "id": "612e001c",
   "metadata": {},
   "outputs": [],
   "source": []
  }
 ],
 "metadata": {
  "kernelspec": {
   "display_name": "Python [conda env:statenv]",
   "language": "python",
   "name": "conda-env-statenv-py"
  },
  "language_info": {
   "codemirror_mode": {
    "name": "ipython",
    "version": 3
   },
   "file_extension": ".py",
   "mimetype": "text/x-python",
   "name": "python",
   "nbconvert_exporter": "python",
   "pygments_lexer": "ipython3",
   "version": "3.8.19"
  }
 },
 "nbformat": 4,
 "nbformat_minor": 5
}
